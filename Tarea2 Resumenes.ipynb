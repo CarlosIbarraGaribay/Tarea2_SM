{
 "cells": [
  {
   "cell_type": "markdown",
   "metadata": {},
   "source": [
    "**7 Razones por las cuales debes usar Python**"
   ]
  },
  {
   "cell_type": "markdown",
   "metadata": {},
   "source": [
    "En la actualidad sabemos que la tecnologia es algo que cada dia va avanzando aun que sea un poco mas dia con dia y es fundamental saber y aprender algo de programacion ya que todo lo que tiene que ver con la industria puede llevar algo de programacion.\n",
    "Sabiendo todo esto sabemos que existen varios tipos de lenguajes de programacion dentro de la tecnologia y que se puede utilizar cualquiera de estos pero al momento de elegir el mejor o el mas comodo creo que nos quedamos con el lenguaje Python, pero esto por que?\n",
    "Tenemos 7 razones por las cuales se deberia usar python como lenguaje predeterminado.\n",
    "* Codigo legible y mantenible\n",
    "* Paradigmas de programacion multiple\n",
    "* Compatible con las principales plataformas y sistemas\n",
    "* Biblioteca estandar robusta\n",
    "* Muchos marcos y herramientas de codigo abierto\n",
    "* Simplifique el desarrollo del software complejo\n",
    "* Adoptar desarrollo guiado por pruebas\n",
    "\n",
    "Con estas 7 razones podemos concluir que utilizar el codigo python es esencial en la actualidad para poder ir a la par del tiempo con respecto a la tecnologia que va avanzando."
   ]
  },
  {
   "cell_type": "markdown",
   "metadata": {},
   "source": [
    " **Python ha llevado la programacion de computadoras a una nueva audiencia**"
   ]
  },
  {
   "cell_type": "markdown",
   "metadata": {},
   "source": [
    "Cada dia el programar resulta ser un poco mas ''sencillo'' por todas las herramientas que tenemos gracias al internet y a todo lo que podemos tener acceso con esto.\n",
    "Es por esto que tomamos cada dia llevamos la programacion a otro nivel y es aqui donde entra la popularidad de Python al hacer todo mucho mas sencillo para todos los programadores en la tierra, siendo esta palabra en el buscador de google segun estadisticas, mucho mas buscado que incluso estrellas de television por la gran demanda que este esta obteniendo de manera cronica.\n",
    "Al llevar esto a diferentes audiencias como lo pueden ser los adultos, jovenes o incluso algunos niños en el mundo es algo que tenemos para facilitar los trabajos diarios que podriamos llegar a tener en diferentes ocasiones de la vida de cada quien, pero algo que es cierto, es que es demasiado util en la vida de cualquier persona, siempre y cuando sepa como exprimir todo lo que podria hacer con la programacion de Python."
   ]
  },
  {
   "cell_type": "code",
   "execution_count": null,
   "metadata": {},
   "outputs": [],
   "source": []
  }
 ],
 "metadata": {
  "kernelspec": {
   "display_name": "Python 3",
   "language": "python",
   "name": "python3"
  },
  "language_info": {
   "codemirror_mode": {
    "name": "ipython",
    "version": 3
   },
   "file_extension": ".py",
   "mimetype": "text/x-python",
   "name": "python",
   "nbconvert_exporter": "python",
   "pygments_lexer": "ipython3",
   "version": "3.7.4"
  }
 },
 "nbformat": 4,
 "nbformat_minor": 2
}
